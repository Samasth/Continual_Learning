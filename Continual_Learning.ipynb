{
  "nbformat": 4,
  "nbformat_minor": 0,
  "metadata": {
    "colab": {
      "name": "AI_Project_2.ipynb",
      "provenance": [],
      "collapsed_sections": [],
      "toc_visible": true,
      "machine_shape": "hm",
      "include_colab_link": true
    },
    "kernelspec": {
      "name": "python3",
      "display_name": "Python 3"
    },
    "widgets": {
      "application/vnd.jupyter.widget-state+json": {
        "9f4c3fee02954178911af42a47eac9a3": {
          "model_module": "@jupyter-widgets/controls",
          "model_name": "HBoxModel",
          "state": {
            "_view_name": "HBoxView",
            "_dom_classes": [],
            "_model_name": "HBoxModel",
            "_view_module": "@jupyter-widgets/controls",
            "_model_module_version": "1.5.0",
            "_view_count": null,
            "_view_module_version": "1.5.0",
            "box_style": "",
            "layout": "IPY_MODEL_8f3a77f34bb949dea52f664d5e8e7ac1",
            "_model_module": "@jupyter-widgets/controls",
            "children": [
              "IPY_MODEL_bcd449b889b4463699a0202a6708e97f",
              "IPY_MODEL_60634c3248d044c081a43826215a6dca"
            ]
          }
        },
        "8f3a77f34bb949dea52f664d5e8e7ac1": {
          "model_module": "@jupyter-widgets/base",
          "model_name": "LayoutModel",
          "state": {
            "_view_name": "LayoutView",
            "grid_template_rows": null,
            "right": null,
            "justify_content": null,
            "_view_module": "@jupyter-widgets/base",
            "overflow": null,
            "_model_module_version": "1.2.0",
            "_view_count": null,
            "flex_flow": null,
            "width": null,
            "min_width": null,
            "border": null,
            "align_items": null,
            "bottom": null,
            "_model_module": "@jupyter-widgets/base",
            "top": null,
            "grid_column": null,
            "overflow_y": null,
            "overflow_x": null,
            "grid_auto_flow": null,
            "grid_area": null,
            "grid_template_columns": null,
            "flex": null,
            "_model_name": "LayoutModel",
            "justify_items": null,
            "grid_row": null,
            "max_height": null,
            "align_content": null,
            "visibility": null,
            "align_self": null,
            "height": null,
            "min_height": null,
            "padding": null,
            "grid_auto_rows": null,
            "grid_gap": null,
            "max_width": null,
            "order": null,
            "_view_module_version": "1.2.0",
            "grid_template_areas": null,
            "object_position": null,
            "object_fit": null,
            "grid_auto_columns": null,
            "margin": null,
            "display": null,
            "left": null
          }
        },
        "bcd449b889b4463699a0202a6708e97f": {
          "model_module": "@jupyter-widgets/controls",
          "model_name": "IntProgressModel",
          "state": {
            "_view_name": "ProgressView",
            "style": "IPY_MODEL_dd14bd34ef284db2adf5a701a1662388",
            "_dom_classes": [],
            "description": "",
            "_model_name": "IntProgressModel",
            "bar_style": "info",
            "max": 1,
            "_view_module": "@jupyter-widgets/controls",
            "_model_module_version": "1.5.0",
            "value": 1,
            "_view_count": null,
            "_view_module_version": "1.5.0",
            "orientation": "horizontal",
            "min": 0,
            "description_tooltip": null,
            "_model_module": "@jupyter-widgets/controls",
            "layout": "IPY_MODEL_8c184714812441c9927b1382c45ef047"
          }
        },
        "60634c3248d044c081a43826215a6dca": {
          "model_module": "@jupyter-widgets/controls",
          "model_name": "HTMLModel",
          "state": {
            "_view_name": "HTMLView",
            "style": "IPY_MODEL_a769553ed9d741e49d2ab29c0ff9fcc2",
            "_dom_classes": [],
            "description": "",
            "_model_name": "HTMLModel",
            "placeholder": "​",
            "_view_module": "@jupyter-widgets/controls",
            "_model_module_version": "1.5.0",
            "value": " 9920512/? [00:20&lt;00:00, 1150819.77it/s]",
            "_view_count": null,
            "_view_module_version": "1.5.0",
            "description_tooltip": null,
            "_model_module": "@jupyter-widgets/controls",
            "layout": "IPY_MODEL_2825a7ed06644545aee7b78c786cc982"
          }
        },
        "dd14bd34ef284db2adf5a701a1662388": {
          "model_module": "@jupyter-widgets/controls",
          "model_name": "ProgressStyleModel",
          "state": {
            "_view_name": "StyleView",
            "_model_name": "ProgressStyleModel",
            "description_width": "initial",
            "_view_module": "@jupyter-widgets/base",
            "_model_module_version": "1.5.0",
            "_view_count": null,
            "_view_module_version": "1.2.0",
            "bar_color": null,
            "_model_module": "@jupyter-widgets/controls"
          }
        },
        "8c184714812441c9927b1382c45ef047": {
          "model_module": "@jupyter-widgets/base",
          "model_name": "LayoutModel",
          "state": {
            "_view_name": "LayoutView",
            "grid_template_rows": null,
            "right": null,
            "justify_content": null,
            "_view_module": "@jupyter-widgets/base",
            "overflow": null,
            "_model_module_version": "1.2.0",
            "_view_count": null,
            "flex_flow": null,
            "width": null,
            "min_width": null,
            "border": null,
            "align_items": null,
            "bottom": null,
            "_model_module": "@jupyter-widgets/base",
            "top": null,
            "grid_column": null,
            "overflow_y": null,
            "overflow_x": null,
            "grid_auto_flow": null,
            "grid_area": null,
            "grid_template_columns": null,
            "flex": null,
            "_model_name": "LayoutModel",
            "justify_items": null,
            "grid_row": null,
            "max_height": null,
            "align_content": null,
            "visibility": null,
            "align_self": null,
            "height": null,
            "min_height": null,
            "padding": null,
            "grid_auto_rows": null,
            "grid_gap": null,
            "max_width": null,
            "order": null,
            "_view_module_version": "1.2.0",
            "grid_template_areas": null,
            "object_position": null,
            "object_fit": null,
            "grid_auto_columns": null,
            "margin": null,
            "display": null,
            "left": null
          }
        },
        "a769553ed9d741e49d2ab29c0ff9fcc2": {
          "model_module": "@jupyter-widgets/controls",
          "model_name": "DescriptionStyleModel",
          "state": {
            "_view_name": "StyleView",
            "_model_name": "DescriptionStyleModel",
            "description_width": "",
            "_view_module": "@jupyter-widgets/base",
            "_model_module_version": "1.5.0",
            "_view_count": null,
            "_view_module_version": "1.2.0",
            "_model_module": "@jupyter-widgets/controls"
          }
        },
        "2825a7ed06644545aee7b78c786cc982": {
          "model_module": "@jupyter-widgets/base",
          "model_name": "LayoutModel",
          "state": {
            "_view_name": "LayoutView",
            "grid_template_rows": null,
            "right": null,
            "justify_content": null,
            "_view_module": "@jupyter-widgets/base",
            "overflow": null,
            "_model_module_version": "1.2.0",
            "_view_count": null,
            "flex_flow": null,
            "width": null,
            "min_width": null,
            "border": null,
            "align_items": null,
            "bottom": null,
            "_model_module": "@jupyter-widgets/base",
            "top": null,
            "grid_column": null,
            "overflow_y": null,
            "overflow_x": null,
            "grid_auto_flow": null,
            "grid_area": null,
            "grid_template_columns": null,
            "flex": null,
            "_model_name": "LayoutModel",
            "justify_items": null,
            "grid_row": null,
            "max_height": null,
            "align_content": null,
            "visibility": null,
            "align_self": null,
            "height": null,
            "min_height": null,
            "padding": null,
            "grid_auto_rows": null,
            "grid_gap": null,
            "max_width": null,
            "order": null,
            "_view_module_version": "1.2.0",
            "grid_template_areas": null,
            "object_position": null,
            "object_fit": null,
            "grid_auto_columns": null,
            "margin": null,
            "display": null,
            "left": null
          }
        },
        "803678d4ef294b3d9a22ef147e365a99": {
          "model_module": "@jupyter-widgets/controls",
          "model_name": "HBoxModel",
          "state": {
            "_view_name": "HBoxView",
            "_dom_classes": [],
            "_model_name": "HBoxModel",
            "_view_module": "@jupyter-widgets/controls",
            "_model_module_version": "1.5.0",
            "_view_count": null,
            "_view_module_version": "1.5.0",
            "box_style": "",
            "layout": "IPY_MODEL_dc94b71853774f57b626e938c552aa52",
            "_model_module": "@jupyter-widgets/controls",
            "children": [
              "IPY_MODEL_7ac161adc751446f933d008adeb22b28",
              "IPY_MODEL_60d352fa8f8a446b9606d31ca386b9e6"
            ]
          }
        },
        "dc94b71853774f57b626e938c552aa52": {
          "model_module": "@jupyter-widgets/base",
          "model_name": "LayoutModel",
          "state": {
            "_view_name": "LayoutView",
            "grid_template_rows": null,
            "right": null,
            "justify_content": null,
            "_view_module": "@jupyter-widgets/base",
            "overflow": null,
            "_model_module_version": "1.2.0",
            "_view_count": null,
            "flex_flow": null,
            "width": null,
            "min_width": null,
            "border": null,
            "align_items": null,
            "bottom": null,
            "_model_module": "@jupyter-widgets/base",
            "top": null,
            "grid_column": null,
            "overflow_y": null,
            "overflow_x": null,
            "grid_auto_flow": null,
            "grid_area": null,
            "grid_template_columns": null,
            "flex": null,
            "_model_name": "LayoutModel",
            "justify_items": null,
            "grid_row": null,
            "max_height": null,
            "align_content": null,
            "visibility": null,
            "align_self": null,
            "height": null,
            "min_height": null,
            "padding": null,
            "grid_auto_rows": null,
            "grid_gap": null,
            "max_width": null,
            "order": null,
            "_view_module_version": "1.2.0",
            "grid_template_areas": null,
            "object_position": null,
            "object_fit": null,
            "grid_auto_columns": null,
            "margin": null,
            "display": null,
            "left": null
          }
        },
        "7ac161adc751446f933d008adeb22b28": {
          "model_module": "@jupyter-widgets/controls",
          "model_name": "IntProgressModel",
          "state": {
            "_view_name": "ProgressView",
            "style": "IPY_MODEL_7366cfbe308c422ea263a2db6ccbbb6e",
            "_dom_classes": [],
            "description": "",
            "_model_name": "IntProgressModel",
            "bar_style": "success",
            "max": 1,
            "_view_module": "@jupyter-widgets/controls",
            "_model_module_version": "1.5.0",
            "value": 1,
            "_view_count": null,
            "_view_module_version": "1.5.0",
            "orientation": "horizontal",
            "min": 0,
            "description_tooltip": null,
            "_model_module": "@jupyter-widgets/controls",
            "layout": "IPY_MODEL_bf1a7e0dc31c4f84923ca030d8abd76e"
          }
        },
        "60d352fa8f8a446b9606d31ca386b9e6": {
          "model_module": "@jupyter-widgets/controls",
          "model_name": "HTMLModel",
          "state": {
            "_view_name": "HTMLView",
            "style": "IPY_MODEL_f41ba9ebdd254087b9036d9030ebd883",
            "_dom_classes": [],
            "description": "",
            "_model_name": "HTMLModel",
            "placeholder": "​",
            "_view_module": "@jupyter-widgets/controls",
            "_model_module_version": "1.5.0",
            "value": " 32768/? [00:00&lt;00:00, 34766.62it/s]",
            "_view_count": null,
            "_view_module_version": "1.5.0",
            "description_tooltip": null,
            "_model_module": "@jupyter-widgets/controls",
            "layout": "IPY_MODEL_80ec4a58cd1b4d4cb412aafb9131fa8c"
          }
        },
        "7366cfbe308c422ea263a2db6ccbbb6e": {
          "model_module": "@jupyter-widgets/controls",
          "model_name": "ProgressStyleModel",
          "state": {
            "_view_name": "StyleView",
            "_model_name": "ProgressStyleModel",
            "description_width": "initial",
            "_view_module": "@jupyter-widgets/base",
            "_model_module_version": "1.5.0",
            "_view_count": null,
            "_view_module_version": "1.2.0",
            "bar_color": null,
            "_model_module": "@jupyter-widgets/controls"
          }
        },
        "bf1a7e0dc31c4f84923ca030d8abd76e": {
          "model_module": "@jupyter-widgets/base",
          "model_name": "LayoutModel",
          "state": {
            "_view_name": "LayoutView",
            "grid_template_rows": null,
            "right": null,
            "justify_content": null,
            "_view_module": "@jupyter-widgets/base",
            "overflow": null,
            "_model_module_version": "1.2.0",
            "_view_count": null,
            "flex_flow": null,
            "width": null,
            "min_width": null,
            "border": null,
            "align_items": null,
            "bottom": null,
            "_model_module": "@jupyter-widgets/base",
            "top": null,
            "grid_column": null,
            "overflow_y": null,
            "overflow_x": null,
            "grid_auto_flow": null,
            "grid_area": null,
            "grid_template_columns": null,
            "flex": null,
            "_model_name": "LayoutModel",
            "justify_items": null,
            "grid_row": null,
            "max_height": null,
            "align_content": null,
            "visibility": null,
            "align_self": null,
            "height": null,
            "min_height": null,
            "padding": null,
            "grid_auto_rows": null,
            "grid_gap": null,
            "max_width": null,
            "order": null,
            "_view_module_version": "1.2.0",
            "grid_template_areas": null,
            "object_position": null,
            "object_fit": null,
            "grid_auto_columns": null,
            "margin": null,
            "display": null,
            "left": null
          }
        },
        "f41ba9ebdd254087b9036d9030ebd883": {
          "model_module": "@jupyter-widgets/controls",
          "model_name": "DescriptionStyleModel",
          "state": {
            "_view_name": "StyleView",
            "_model_name": "DescriptionStyleModel",
            "description_width": "",
            "_view_module": "@jupyter-widgets/base",
            "_model_module_version": "1.5.0",
            "_view_count": null,
            "_view_module_version": "1.2.0",
            "_model_module": "@jupyter-widgets/controls"
          }
        },
        "80ec4a58cd1b4d4cb412aafb9131fa8c": {
          "model_module": "@jupyter-widgets/base",
          "model_name": "LayoutModel",
          "state": {
            "_view_name": "LayoutView",
            "grid_template_rows": null,
            "right": null,
            "justify_content": null,
            "_view_module": "@jupyter-widgets/base",
            "overflow": null,
            "_model_module_version": "1.2.0",
            "_view_count": null,
            "flex_flow": null,
            "width": null,
            "min_width": null,
            "border": null,
            "align_items": null,
            "bottom": null,
            "_model_module": "@jupyter-widgets/base",
            "top": null,
            "grid_column": null,
            "overflow_y": null,
            "overflow_x": null,
            "grid_auto_flow": null,
            "grid_area": null,
            "grid_template_columns": null,
            "flex": null,
            "_model_name": "LayoutModel",
            "justify_items": null,
            "grid_row": null,
            "max_height": null,
            "align_content": null,
            "visibility": null,
            "align_self": null,
            "height": null,
            "min_height": null,
            "padding": null,
            "grid_auto_rows": null,
            "grid_gap": null,
            "max_width": null,
            "order": null,
            "_view_module_version": "1.2.0",
            "grid_template_areas": null,
            "object_position": null,
            "object_fit": null,
            "grid_auto_columns": null,
            "margin": null,
            "display": null,
            "left": null
          }
        },
        "e312350c39ce49888d474166ad0d5b0d": {
          "model_module": "@jupyter-widgets/controls",
          "model_name": "HBoxModel",
          "state": {
            "_view_name": "HBoxView",
            "_dom_classes": [],
            "_model_name": "HBoxModel",
            "_view_module": "@jupyter-widgets/controls",
            "_model_module_version": "1.5.0",
            "_view_count": null,
            "_view_module_version": "1.5.0",
            "box_style": "",
            "layout": "IPY_MODEL_963e69858aa34fba99c8538a9f12b461",
            "_model_module": "@jupyter-widgets/controls",
            "children": [
              "IPY_MODEL_551545cae6f14f2f924d893e9a476eb8",
              "IPY_MODEL_fa2166b8b86f40b899c227b64ab568d9"
            ]
          }
        },
        "963e69858aa34fba99c8538a9f12b461": {
          "model_module": "@jupyter-widgets/base",
          "model_name": "LayoutModel",
          "state": {
            "_view_name": "LayoutView",
            "grid_template_rows": null,
            "right": null,
            "justify_content": null,
            "_view_module": "@jupyter-widgets/base",
            "overflow": null,
            "_model_module_version": "1.2.0",
            "_view_count": null,
            "flex_flow": null,
            "width": null,
            "min_width": null,
            "border": null,
            "align_items": null,
            "bottom": null,
            "_model_module": "@jupyter-widgets/base",
            "top": null,
            "grid_column": null,
            "overflow_y": null,
            "overflow_x": null,
            "grid_auto_flow": null,
            "grid_area": null,
            "grid_template_columns": null,
            "flex": null,
            "_model_name": "LayoutModel",
            "justify_items": null,
            "grid_row": null,
            "max_height": null,
            "align_content": null,
            "visibility": null,
            "align_self": null,
            "height": null,
            "min_height": null,
            "padding": null,
            "grid_auto_rows": null,
            "grid_gap": null,
            "max_width": null,
            "order": null,
            "_view_module_version": "1.2.0",
            "grid_template_areas": null,
            "object_position": null,
            "object_fit": null,
            "grid_auto_columns": null,
            "margin": null,
            "display": null,
            "left": null
          }
        },
        "551545cae6f14f2f924d893e9a476eb8": {
          "model_module": "@jupyter-widgets/controls",
          "model_name": "IntProgressModel",
          "state": {
            "_view_name": "ProgressView",
            "style": "IPY_MODEL_6b5e3ecdcb3748f0a686b9720fe395cc",
            "_dom_classes": [],
            "description": "",
            "_model_name": "IntProgressModel",
            "bar_style": "success",
            "max": 1,
            "_view_module": "@jupyter-widgets/controls",
            "_model_module_version": "1.5.0",
            "value": 1,
            "_view_count": null,
            "_view_module_version": "1.5.0",
            "orientation": "horizontal",
            "min": 0,
            "description_tooltip": null,
            "_model_module": "@jupyter-widgets/controls",
            "layout": "IPY_MODEL_7edb33ed50da42b180f1d65fa01669c7"
          }
        },
        "fa2166b8b86f40b899c227b64ab568d9": {
          "model_module": "@jupyter-widgets/controls",
          "model_name": "HTMLModel",
          "state": {
            "_view_name": "HTMLView",
            "style": "IPY_MODEL_c40650c8c0034d2f97274cc94bd2589f",
            "_dom_classes": [],
            "description": "",
            "_model_name": "HTMLModel",
            "placeholder": "​",
            "_view_module": "@jupyter-widgets/controls",
            "_model_module_version": "1.5.0",
            "value": " 1654784/? [00:00&lt;00:00, 2374974.94it/s]",
            "_view_count": null,
            "_view_module_version": "1.5.0",
            "description_tooltip": null,
            "_model_module": "@jupyter-widgets/controls",
            "layout": "IPY_MODEL_7ce8bd8411a74fe497bf0d8508100d7e"
          }
        },
        "6b5e3ecdcb3748f0a686b9720fe395cc": {
          "model_module": "@jupyter-widgets/controls",
          "model_name": "ProgressStyleModel",
          "state": {
            "_view_name": "StyleView",
            "_model_name": "ProgressStyleModel",
            "description_width": "initial",
            "_view_module": "@jupyter-widgets/base",
            "_model_module_version": "1.5.0",
            "_view_count": null,
            "_view_module_version": "1.2.0",
            "bar_color": null,
            "_model_module": "@jupyter-widgets/controls"
          }
        },
        "7edb33ed50da42b180f1d65fa01669c7": {
          "model_module": "@jupyter-widgets/base",
          "model_name": "LayoutModel",
          "state": {
            "_view_name": "LayoutView",
            "grid_template_rows": null,
            "right": null,
            "justify_content": null,
            "_view_module": "@jupyter-widgets/base",
            "overflow": null,
            "_model_module_version": "1.2.0",
            "_view_count": null,
            "flex_flow": null,
            "width": null,
            "min_width": null,
            "border": null,
            "align_items": null,
            "bottom": null,
            "_model_module": "@jupyter-widgets/base",
            "top": null,
            "grid_column": null,
            "overflow_y": null,
            "overflow_x": null,
            "grid_auto_flow": null,
            "grid_area": null,
            "grid_template_columns": null,
            "flex": null,
            "_model_name": "LayoutModel",
            "justify_items": null,
            "grid_row": null,
            "max_height": null,
            "align_content": null,
            "visibility": null,
            "align_self": null,
            "height": null,
            "min_height": null,
            "padding": null,
            "grid_auto_rows": null,
            "grid_gap": null,
            "max_width": null,
            "order": null,
            "_view_module_version": "1.2.0",
            "grid_template_areas": null,
            "object_position": null,
            "object_fit": null,
            "grid_auto_columns": null,
            "margin": null,
            "display": null,
            "left": null
          }
        },
        "c40650c8c0034d2f97274cc94bd2589f": {
          "model_module": "@jupyter-widgets/controls",
          "model_name": "DescriptionStyleModel",
          "state": {
            "_view_name": "StyleView",
            "_model_name": "DescriptionStyleModel",
            "description_width": "",
            "_view_module": "@jupyter-widgets/base",
            "_model_module_version": "1.5.0",
            "_view_count": null,
            "_view_module_version": "1.2.0",
            "_model_module": "@jupyter-widgets/controls"
          }
        },
        "7ce8bd8411a74fe497bf0d8508100d7e": {
          "model_module": "@jupyter-widgets/base",
          "model_name": "LayoutModel",
          "state": {
            "_view_name": "LayoutView",
            "grid_template_rows": null,
            "right": null,
            "justify_content": null,
            "_view_module": "@jupyter-widgets/base",
            "overflow": null,
            "_model_module_version": "1.2.0",
            "_view_count": null,
            "flex_flow": null,
            "width": null,
            "min_width": null,
            "border": null,
            "align_items": null,
            "bottom": null,
            "_model_module": "@jupyter-widgets/base",
            "top": null,
            "grid_column": null,
            "overflow_y": null,
            "overflow_x": null,
            "grid_auto_flow": null,
            "grid_area": null,
            "grid_template_columns": null,
            "flex": null,
            "_model_name": "LayoutModel",
            "justify_items": null,
            "grid_row": null,
            "max_height": null,
            "align_content": null,
            "visibility": null,
            "align_self": null,
            "height": null,
            "min_height": null,
            "padding": null,
            "grid_auto_rows": null,
            "grid_gap": null,
            "max_width": null,
            "order": null,
            "_view_module_version": "1.2.0",
            "grid_template_areas": null,
            "object_position": null,
            "object_fit": null,
            "grid_auto_columns": null,
            "margin": null,
            "display": null,
            "left": null
          }
        },
        "1d6ceac6818d4d06927146d635871d7a": {
          "model_module": "@jupyter-widgets/controls",
          "model_name": "HBoxModel",
          "state": {
            "_view_name": "HBoxView",
            "_dom_classes": [],
            "_model_name": "HBoxModel",
            "_view_module": "@jupyter-widgets/controls",
            "_model_module_version": "1.5.0",
            "_view_count": null,
            "_view_module_version": "1.5.0",
            "box_style": "",
            "layout": "IPY_MODEL_390f64ab6ea94a85a240fe30892e52c1",
            "_model_module": "@jupyter-widgets/controls",
            "children": [
              "IPY_MODEL_faf470ea16c94b9884aecbf8c01750e8",
              "IPY_MODEL_8a3c825a24ce4657be451298d05b66fc"
            ]
          }
        },
        "390f64ab6ea94a85a240fe30892e52c1": {
          "model_module": "@jupyter-widgets/base",
          "model_name": "LayoutModel",
          "state": {
            "_view_name": "LayoutView",
            "grid_template_rows": null,
            "right": null,
            "justify_content": null,
            "_view_module": "@jupyter-widgets/base",
            "overflow": null,
            "_model_module_version": "1.2.0",
            "_view_count": null,
            "flex_flow": null,
            "width": null,
            "min_width": null,
            "border": null,
            "align_items": null,
            "bottom": null,
            "_model_module": "@jupyter-widgets/base",
            "top": null,
            "grid_column": null,
            "overflow_y": null,
            "overflow_x": null,
            "grid_auto_flow": null,
            "grid_area": null,
            "grid_template_columns": null,
            "flex": null,
            "_model_name": "LayoutModel",
            "justify_items": null,
            "grid_row": null,
            "max_height": null,
            "align_content": null,
            "visibility": null,
            "align_self": null,
            "height": null,
            "min_height": null,
            "padding": null,
            "grid_auto_rows": null,
            "grid_gap": null,
            "max_width": null,
            "order": null,
            "_view_module_version": "1.2.0",
            "grid_template_areas": null,
            "object_position": null,
            "object_fit": null,
            "grid_auto_columns": null,
            "margin": null,
            "display": null,
            "left": null
          }
        },
        "faf470ea16c94b9884aecbf8c01750e8": {
          "model_module": "@jupyter-widgets/controls",
          "model_name": "IntProgressModel",
          "state": {
            "_view_name": "ProgressView",
            "style": "IPY_MODEL_c54e24c0d67d4091914f4a4a4c89f352",
            "_dom_classes": [],
            "description": "  0%",
            "_model_name": "IntProgressModel",
            "bar_style": "info",
            "max": 1,
            "_view_module": "@jupyter-widgets/controls",
            "_model_module_version": "1.5.0",
            "value": 0,
            "_view_count": null,
            "_view_module_version": "1.5.0",
            "orientation": "horizontal",
            "min": 0,
            "description_tooltip": null,
            "_model_module": "@jupyter-widgets/controls",
            "layout": "IPY_MODEL_7345060ce745433fa93add33a61e471e"
          }
        },
        "8a3c825a24ce4657be451298d05b66fc": {
          "model_module": "@jupyter-widgets/controls",
          "model_name": "HTMLModel",
          "state": {
            "_view_name": "HTMLView",
            "style": "IPY_MODEL_7cd4267a6b1341db8ccd5a9c0fe07436",
            "_dom_classes": [],
            "description": "",
            "_model_name": "HTMLModel",
            "placeholder": "​",
            "_view_module": "@jupyter-widgets/controls",
            "_model_module_version": "1.5.0",
            "value": " 0/4542 [00:00&lt;?, ?it/s]",
            "_view_count": null,
            "_view_module_version": "1.5.0",
            "description_tooltip": null,
            "_model_module": "@jupyter-widgets/controls",
            "layout": "IPY_MODEL_6a1362ad3f444f64ac75c1cf0dcc1c6c"
          }
        },
        "c54e24c0d67d4091914f4a4a4c89f352": {
          "model_module": "@jupyter-widgets/controls",
          "model_name": "ProgressStyleModel",
          "state": {
            "_view_name": "StyleView",
            "_model_name": "ProgressStyleModel",
            "description_width": "initial",
            "_view_module": "@jupyter-widgets/base",
            "_model_module_version": "1.5.0",
            "_view_count": null,
            "_view_module_version": "1.2.0",
            "bar_color": null,
            "_model_module": "@jupyter-widgets/controls"
          }
        },
        "7345060ce745433fa93add33a61e471e": {
          "model_module": "@jupyter-widgets/base",
          "model_name": "LayoutModel",
          "state": {
            "_view_name": "LayoutView",
            "grid_template_rows": null,
            "right": null,
            "justify_content": null,
            "_view_module": "@jupyter-widgets/base",
            "overflow": null,
            "_model_module_version": "1.2.0",
            "_view_count": null,
            "flex_flow": null,
            "width": null,
            "min_width": null,
            "border": null,
            "align_items": null,
            "bottom": null,
            "_model_module": "@jupyter-widgets/base",
            "top": null,
            "grid_column": null,
            "overflow_y": null,
            "overflow_x": null,
            "grid_auto_flow": null,
            "grid_area": null,
            "grid_template_columns": null,
            "flex": null,
            "_model_name": "LayoutModel",
            "justify_items": null,
            "grid_row": null,
            "max_height": null,
            "align_content": null,
            "visibility": null,
            "align_self": null,
            "height": null,
            "min_height": null,
            "padding": null,
            "grid_auto_rows": null,
            "grid_gap": null,
            "max_width": null,
            "order": null,
            "_view_module_version": "1.2.0",
            "grid_template_areas": null,
            "object_position": null,
            "object_fit": null,
            "grid_auto_columns": null,
            "margin": null,
            "display": null,
            "left": null
          }
        },
        "7cd4267a6b1341db8ccd5a9c0fe07436": {
          "model_module": "@jupyter-widgets/controls",
          "model_name": "DescriptionStyleModel",
          "state": {
            "_view_name": "StyleView",
            "_model_name": "DescriptionStyleModel",
            "description_width": "",
            "_view_module": "@jupyter-widgets/base",
            "_model_module_version": "1.5.0",
            "_view_count": null,
            "_view_module_version": "1.2.0",
            "_model_module": "@jupyter-widgets/controls"
          }
        },
        "6a1362ad3f444f64ac75c1cf0dcc1c6c": {
          "model_module": "@jupyter-widgets/base",
          "model_name": "LayoutModel",
          "state": {
            "_view_name": "LayoutView",
            "grid_template_rows": null,
            "right": null,
            "justify_content": null,
            "_view_module": "@jupyter-widgets/base",
            "overflow": null,
            "_model_module_version": "1.2.0",
            "_view_count": null,
            "flex_flow": null,
            "width": null,
            "min_width": null,
            "border": null,
            "align_items": null,
            "bottom": null,
            "_model_module": "@jupyter-widgets/base",
            "top": null,
            "grid_column": null,
            "overflow_y": null,
            "overflow_x": null,
            "grid_auto_flow": null,
            "grid_area": null,
            "grid_template_columns": null,
            "flex": null,
            "_model_name": "LayoutModel",
            "justify_items": null,
            "grid_row": null,
            "max_height": null,
            "align_content": null,
            "visibility": null,
            "align_self": null,
            "height": null,
            "min_height": null,
            "padding": null,
            "grid_auto_rows": null,
            "grid_gap": null,
            "max_width": null,
            "order": null,
            "_view_module_version": "1.2.0",
            "grid_template_areas": null,
            "object_position": null,
            "object_fit": null,
            "grid_auto_columns": null,
            "margin": null,
            "display": null,
            "left": null
          }
        }
      }
    }
  },
  "cells": [
    {
      "cell_type": "markdown",
      "metadata": {
        "id": "view-in-github",
        "colab_type": "text"
      },
      "source": [
        "<a href=\"https://colab.research.google.com/github/Samasth/Continual_Learning/blob/main/Continual_Learning.ipynb\" target=\"_parent\"><img src=\"https://colab.research.google.com/assets/colab-badge.svg\" alt=\"Open In Colab\"/></a>"
      ]
    },
    {
      "cell_type": "markdown",
      "metadata": {
        "id": "3lHVCSEfWK3t"
      },
      "source": [
        "#**Project - 2 - Continual Learning (CL) for Robotic Perception**\n"
      ]
    },
    {
      "cell_type": "markdown",
      "metadata": {
        "id": "2Y1cFvmrzwnt"
      },
      "source": [
        "We use Pytorch to build a Neural network model based on the paper \"Discriminative Variational Autoencoder\n",
        "for Continual learning with generative\n",
        "replay\". We use MNIST and Rotated MNIST dataset as used in the paper for showing our results."
      ]
    },
    {
      "cell_type": "markdown",
      "metadata": {
        "id": "Tcwj9NDM8rFI"
      },
      "source": [
        "Generative replay (GR) is a method to alleviate catastrophic forgetting in continual learning (CL) by generating previous task data and learning them together with the data from new tasks. We use discriminative variational autoencoder (DiVA) to address the GR-based CL problem."
      ]
    },
    {
      "cell_type": "markdown",
      "metadata": {
        "id": "PGLatz7TDaCO"
      },
      "source": [
        "**Installing all required Packages**"
      ]
    },
    {
      "cell_type": "code",
      "metadata": {
        "id": "ZjybVaQkz7PD",
        "outputId": "b3ee6466-1c3c-4502-88f1-cdcae8b9127c",
        "colab": {
          "base_uri": "https://localhost:8080/",
          "height": 309
        }
      },
      "source": [
        "!pip3 install torch torchvision\n",
        "!pip3 install idx2numpy\n",
        "import matplotlib.pyplot as plt\n",
        "import numpy\n",
        "import scipy.ndimage\n",
        "import torch \n",
        "import torchvision\n",
        "import torch.nn as nn\n",
        "import torchvision.datasets as dset\n",
        "import torchvision.transforms as transforms\n",
        "from torch.autograd import Variable\n",
        "import copy\n",
        "import os\n",
        "from PIL import *\n",
        "import random\n",
        "import PIL.Image\n",
        "import idx2numpy\n",
        "from torch import nn\n",
        "from torch.autograd import Variable\n",
        "from torch.utils.data import DataLoader\n",
        "from torchvision import transforms\n",
        "from torchvision.datasets import MNIST\n",
        "from torchvision.utils import save_image\n",
        "import scipy.ndimage\n",
        "import numpy"
      ],
      "execution_count": null,
      "outputs": [
        {
          "output_type": "stream",
          "text": [
            "Requirement already satisfied: torch in /usr/local/lib/python3.6/dist-packages (1.4.0)\n",
            "Requirement already satisfied: torchvision in /usr/local/lib/python3.6/dist-packages (0.5.0)\n",
            "Requirement already satisfied: six in /usr/local/lib/python3.6/dist-packages (from torchvision) (1.12.0)\n",
            "Requirement already satisfied: pillow>=4.1.1 in /usr/local/lib/python3.6/dist-packages (from torchvision) (7.0.0)\n",
            "Requirement already satisfied: numpy in /usr/local/lib/python3.6/dist-packages (from torchvision) (1.18.2)\n",
            "Collecting idx2numpy\n",
            "  Downloading https://files.pythonhosted.org/packages/23/6b/abab4652eb249f432c62431907c8de32bdcedb5abdf869ff86653efff981/idx2numpy-1.2.2.tar.gz\n",
            "Requirement already satisfied: numpy in /usr/local/lib/python3.6/dist-packages (from idx2numpy) (1.18.2)\n",
            "Requirement already satisfied: six in /usr/local/lib/python3.6/dist-packages (from idx2numpy) (1.12.0)\n",
            "Building wheels for collected packages: idx2numpy\n",
            "  Building wheel for idx2numpy (setup.py) ... \u001b[?25l\u001b[?25hdone\n",
            "  Created wheel for idx2numpy: filename=idx2numpy-1.2.2-cp36-none-any.whl size=8032 sha256=426ce873589e0ee702a8f3a5d5cc4b8483b9151f4c61f5c66053bd85f4e917e6\n",
            "  Stored in directory: /root/.cache/pip/wheels/7a/b5/69/3e0757b3086607e95db70661798fdf98a77a0bb79c54e1f320\n",
            "Successfully built idx2numpy\n",
            "Installing collected packages: idx2numpy\n",
            "Successfully installed idx2numpy-1.2.2\n"
          ],
          "name": "stdout"
        }
      ]
    },
    {
      "cell_type": "markdown",
      "metadata": {
        "id": "UdSgjiR5Dga4"
      },
      "source": [
        "**Mounting Google drive**"
      ]
    },
    {
      "cell_type": "code",
      "metadata": {
        "id": "rZb3ZfI_D6Pb",
        "outputId": "1ac74a71-e9a9-44b3-8ccc-315e6759a33d",
        "colab": {
          "base_uri": "https://localhost:8080/",
          "height": 122
        }
      },
      "source": [
        "from google.colab import drive\n",
        "drive.mount('/content/drive')"
      ],
      "execution_count": null,
      "outputs": [
        {
          "output_type": "stream",
          "text": [
            "Go to this URL in a browser: https://accounts.google.com/o/oauth2/auth?client_id=947318989803-6bn6qk8qdgf4n4g3pfee6491hc0brc4i.apps.googleusercontent.com&redirect_uri=urn%3aietf%3awg%3aoauth%3a2.0%3aoob&response_type=code&scope=email%20https%3a%2f%2fwww.googleapis.com%2fauth%2fdocs.test%20https%3a%2f%2fwww.googleapis.com%2fauth%2fdrive%20https%3a%2f%2fwww.googleapis.com%2fauth%2fdrive.photos.readonly%20https%3a%2f%2fwww.googleapis.com%2fauth%2fpeopleapi.readonly\n",
            "\n",
            "Enter your authorization code:\n",
            "··········\n",
            "Mounted at /content/drive\n"
          ],
          "name": "stdout"
        }
      ]
    },
    {
      "cell_type": "markdown",
      "metadata": {
        "id": "8hhprZisDtSS"
      },
      "source": [
        "**Downloading the MNIST Dataset**"
      ]
    },
    {
      "cell_type": "code",
      "metadata": {
        "id": "duGK6xTu_h1K",
        "outputId": "270f282e-b84f-4719-a379-23fc6bb4d5f0",
        "colab": {
          "base_uri": "https://localhost:8080/",
          "height": 349,
          "referenced_widgets": [
            "9f4c3fee02954178911af42a47eac9a3",
            "8f3a77f34bb949dea52f664d5e8e7ac1",
            "bcd449b889b4463699a0202a6708e97f",
            "60634c3248d044c081a43826215a6dca",
            "dd14bd34ef284db2adf5a701a1662388",
            "8c184714812441c9927b1382c45ef047",
            "a769553ed9d741e49d2ab29c0ff9fcc2",
            "2825a7ed06644545aee7b78c786cc982",
            "803678d4ef294b3d9a22ef147e365a99",
            "dc94b71853774f57b626e938c552aa52",
            "7ac161adc751446f933d008adeb22b28",
            "60d352fa8f8a446b9606d31ca386b9e6",
            "7366cfbe308c422ea263a2db6ccbbb6e",
            "bf1a7e0dc31c4f84923ca030d8abd76e",
            "f41ba9ebdd254087b9036d9030ebd883",
            "80ec4a58cd1b4d4cb412aafb9131fa8c",
            "e312350c39ce49888d474166ad0d5b0d",
            "963e69858aa34fba99c8538a9f12b461",
            "551545cae6f14f2f924d893e9a476eb8",
            "fa2166b8b86f40b899c227b64ab568d9",
            "6b5e3ecdcb3748f0a686b9720fe395cc",
            "7edb33ed50da42b180f1d65fa01669c7",
            "c40650c8c0034d2f97274cc94bd2589f",
            "7ce8bd8411a74fe497bf0d8508100d7e",
            "1d6ceac6818d4d06927146d635871d7a",
            "390f64ab6ea94a85a240fe30892e52c1",
            "faf470ea16c94b9884aecbf8c01750e8",
            "8a3c825a24ce4657be451298d05b66fc",
            "c54e24c0d67d4091914f4a4a4c89f352",
            "7345060ce745433fa93add33a61e471e",
            "7cd4267a6b1341db8ccd5a9c0fe07436",
            "6a1362ad3f444f64ac75c1cf0dcc1c6c"
          ]
        }
      },
      "source": [
        "img_transform = transforms.Compose([\n",
        "    transforms.ToTensor(),\n",
        "    transforms.Lambda(lambda tensor:min_max_normalization(tensor, 0, 1)),\n",
        "    transforms.Lambda(lambda tensor:tensor_round(tensor))\n",
        "])\n",
        "mnist_train  = dset.MNIST(\"./\", train=True, transform=transforms.ToTensor(), target_transform=None, download=True)\n",
        "mnist_test  = dset.MNIST(\"./\", train=False, transform=transforms.ToTensor(), target_transform=None, download=True)\n",
        "batch_size = 64\n",
        "train_loader = DataLoader(mnist_train, batch_size=batch_size, shuffle=True)    \n",
        "test_loader = DataLoader(mnist_test, batch_size=batch_size, shuffle=True) "
      ],
      "execution_count": null,
      "outputs": [
        {
          "output_type": "stream",
          "text": [
            "Downloading http://yann.lecun.com/exdb/mnist/train-images-idx3-ubyte.gz to ./MNIST/raw/train-images-idx3-ubyte.gz\n"
          ],
          "name": "stdout"
        },
        {
          "output_type": "display_data",
          "data": {
            "application/vnd.jupyter.widget-view+json": {
              "model_id": "9f4c3fee02954178911af42a47eac9a3",
              "version_minor": 0,
              "version_major": 2
            },
            "text/plain": [
              "HBox(children=(IntProgress(value=1, bar_style='info', max=1), HTML(value='')))"
            ]
          },
          "metadata": {
            "tags": []
          }
        },
        {
          "output_type": "stream",
          "text": [
            "Extracting ./MNIST/raw/train-images-idx3-ubyte.gz to ./MNIST/raw\n",
            "Downloading http://yann.lecun.com/exdb/mnist/train-labels-idx1-ubyte.gz to ./MNIST/raw/train-labels-idx1-ubyte.gz\n"
          ],
          "name": "stdout"
        },
        {
          "output_type": "display_data",
          "data": {
            "application/vnd.jupyter.widget-view+json": {
              "model_id": "803678d4ef294b3d9a22ef147e365a99",
              "version_minor": 0,
              "version_major": 2
            },
            "text/plain": [
              "HBox(children=(IntProgress(value=1, bar_style='info', max=1), HTML(value='')))"
            ]
          },
          "metadata": {
            "tags": []
          }
        },
        {
          "output_type": "stream",
          "text": [
            "Extracting ./MNIST/raw/train-labels-idx1-ubyte.gz to ./MNIST/raw\n",
            "Downloading http://yann.lecun.com/exdb/mnist/t10k-images-idx3-ubyte.gz to ./MNIST/raw/t10k-images-idx3-ubyte.gz\n"
          ],
          "name": "stdout"
        },
        {
          "output_type": "display_data",
          "data": {
            "application/vnd.jupyter.widget-view+json": {
              "model_id": "e312350c39ce49888d474166ad0d5b0d",
              "version_minor": 0,
              "version_major": 2
            },
            "text/plain": [
              "HBox(children=(IntProgress(value=1, bar_style='info', max=1), HTML(value='')))"
            ]
          },
          "metadata": {
            "tags": []
          }
        },
        {
          "output_type": "stream",
          "text": [
            "Extracting ./MNIST/raw/t10k-images-idx3-ubyte.gz to ./MNIST/raw\n",
            "Downloading http://yann.lecun.com/exdb/mnist/t10k-labels-idx1-ubyte.gz to ./MNIST/raw/t10k-labels-idx1-ubyte.gz\n",
            "\n",
            "\n"
          ],
          "name": "stdout"
        },
        {
          "output_type": "display_data",
          "data": {
            "application/vnd.jupyter.widget-view+json": {
              "model_id": "1d6ceac6818d4d06927146d635871d7a",
              "version_minor": 0,
              "version_major": 2
            },
            "text/plain": [
              "HBox(children=(IntProgress(value=1, bar_style='info', max=1), HTML(value='')))"
            ]
          },
          "metadata": {
            "tags": []
          }
        },
        {
          "output_type": "stream",
          "text": [
            "Extracting ./MNIST/raw/t10k-labels-idx1-ubyte.gz to ./MNIST/raw\n",
            "Processing...\n",
            "Done!\n"
          ],
          "name": "stdout"
        }
      ]
    },
    {
      "cell_type": "markdown",
      "metadata": {
        "id": "K_EnEnZaD2gI"
      },
      "source": [
        "**Defining the Network**"
      ]
    },
    {
      "cell_type": "markdown",
      "metadata": {
        "id": "WKT8NNSpEJNt"
      },
      "source": [
        "\n",
        "Let us formulate the problem concretely. We have two tasks here for the network to learn. The first task is to learn to classify normal MNIST digits. The second task is to learn to classify rotated MNIST digits. With a normal feed-forward Neural network trained sequentially on these tasks, we observe that the network \"forgets\" task1 once it finished training on task2. This type of forgetting previous tasks is referred to as Catastrohpic forgetting.This is due to the difference in probability distribution of both the datasets. \n",
        "\n",
        "The overall idea to overcome catastrophic forgetting is to replay the past \"memories\" given that we don't have access to past tasks data. It has also been found in many studies that in some parts of brain such as Hippocampus, this generative replay mechanism is used for retaining knowledge about several tasks. Therefore, we need a generative model that can produce samples closely belonging to the original distribution so that we could use them in addition to the new task data and train the network which would theoretically let the network retain knowledge about the previous tasks. The neural network we implemented has two main class of networks namely Variational autoencoder (generative model) and a classification network.\n",
        "\n",
        "**Variational Autoencoder**\n",
        "\n",
        "Variational Autoencoders are a class of neural networks that were first proposed in DP Kingma and Max Welling (2014) are essentially a combination of neural networks and probabilistic graphical models. In probabilistic graphical models, the problem of inference focuses on obtaining the posterior distribution p(z│x) which essentially infers the values of latent variables given an observation. However, computing this posterior distribution is intractable because of the term p(x) present in equation as shown below.\n",
        "\n",
        "\\begin{equation}\n",
        "p(z│x)= p(x│z)p(z)/p(x)     \n",
        "\\end{equation}\n",
        "\n",
        "\\begin{equation}\n",
        "p(x)= ∫p(x│z)p(z)dz\n",
        "\\end{equation}\n",
        "\n",
        "Computing the above integral is intractable because of the large number of possible latent variable settings and the dimension of the latent variables. Therefore, a tractable approximate posterior q(z│x) such as a Gaussian distribution is introduced and is made close to the true posterior p(z│x) by adjusting its parameters thereby eliminating the need to compute the above integral. \n",
        "\n",
        "The objective now is to bring the approximate posterior distribution q(z│x) as close as possible to the original posterior p(z│x). A similarity metric between probability distributions derived from information theory called as the KL Divergence or relative entropy as defined below is used for quantification.\n",
        "\n",
        "\n",
        "\\begin{equation}\n",
        "KL ( q(z│x)  ,p(z│x) ) = E q [log q(z│x)] – E q [log p(x,z)] + log p(x)\n",
        "\\end{equation}\n",
        "\n",
        "So, the parameters of the tractable distribution q(z│x) learned during the optimization will minimize the above divergence and bring it close to the original distribution. If we observe the RHS of the above equation, log p(x) is a constant for a given observation and hence, minimizing E q [log q(z│x)] – E q [log p(x,z)] is sufficient for minimizing the divergence. \n",
        "\n",
        "\\begin{equation}\n",
        "L =  E q [ log p ( x , z ) ]  -  E q [ log q ( z | x ) ]                                   \n",
        "\\end{equation}\n",
        "\n",
        "Substituting L into the divergence equation, we obtain the following\n",
        "\n",
        "\\begin{equation}\n",
        "KL ( q(z│x)  ,p(z│x) ) = - L + log p(x)                               \n",
        "\\end{equation}\n",
        "\n",
        "\\begin{equation}\n",
        "log p(x) = KL ( q(z│x)  ,p(z│x) ) + L                                                     \n",
        "\\end{equation}\n",
        "\n",
        "Since we know that KL ≥ 0, L acts as a lower bound for log p(x) and is referred as Variational lower bound. From equation (4), as the LHS is a constant, minimizing the KL Divergence is equivalent to maximizing the Lower bound L. This is very crucial because the lower bound is easier to optimize as we will see further. If we expand the logarithm in the first term of equation above and rewrite the equation, we get the following \n",
        "\n",
        "\\begin{equation}\n",
        "L =  E q(z|x) [ log p( x|z) ]   -  KL ( q(z│x)  ,p(z│x) \n",
        "\\end{equation}\n",
        "\n",
        "This is the point where we bring in the neural networks and create variational autoencoders. The final step is to parametrize the approximate posterior qθ (z∣x,λ) with an inference network (or encoder) that takes as input data x and outputs parameters λ. We parametrize the likelihood p(x│z) with a generative network (or decoder) that takes latent variables and outputs parameters to the data distribution pϕ (x∣z). The inference and generative networks have parameters θ and ϕ respectively. The parameters are typically the weights and biases of the neural networks. Now, the first term of the equation above can be interpreted as the reconstruction error as in a traditional autoencoder. \n",
        "\n",
        "![image.png](data:image/png;base64,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)\n",
        "\n",
        "We make an assumption about the prior and posterior distributions on z before going to the second term (KL divergence). We assume that p (z) is a centered isotropic multivariate  Gaussian N (z;0,I) and the posterior q (z |x ) to be Gaussian as well with the mean and variance produced by the encoder network. This is done to obtain a closed form expression for the KL divergence present in the lower bound equation. Maximizing the lower bound will force the encoder network to produce samples that closely belong to unit Gaussian distribution. Similarly, maximizing the lower bound will force the decoder to transform the latent samples drawn from the posterior distribution to realistic looking images that resembles the ones in the training data thereby maximizing p (x |z).\n",
        "\n",
        "The encoder network is similar to that of a Variational autoencoder where it takes as input 28x28 image and outputs parameters of a gaussian distribution. In a traditional Variational autoencoder, these parameters are pushed to form a isotrpoic gaussian distribution ( Mean = 0 and Covariance = I) or in other words, the prior distribution on z (latent space) is assumed to be isotropic gaussian. This constraint is taken care by a KL divergence between the distribution produced by the encoder and the prior distribution. Once training of encoder and decoder networks are done, the encoder can be removed and latent vectors can be sampled from prior distribution(Isotropic gaussian distribution) and fed into the decoder network. The output of decoder would be semantically sound digits. However, in this kind of generation, we don't have control over the generation of digits. \n",
        "In our model, we would need control over generation of digits as these would be used to create a dataset with uniform number of classes. Therefore, instead of restricting the prior to be a fixed isotropic gaussian, we create a new network called Prior network which would produce a new distribution of each class by taking in one-hot vector form of digit classes and outputting mean and variance of the distribution produced. So the modification from the original VAE would be that the KL Divergence term would be between the distribution produced by the prior and the encoder. When this network is trained, we could simply eliminate the encoder network and feed into the prior the one-hot vector of desired class and get the reconstructed image of that digit thereby enabling class conditional generation.\n",
        "\n",
        "**Classification Network**\n",
        "\n",
        "In this paper, along with the Variational encoder loss, they thought of imposing another loss term which was the mutual information I(c;z). The mutual information gave the amount of information inferred about c given z. This loss term when applied to our network translates to a classification loss or cross entropy loss. Therefore, we take the sample drawn from the encoder and feed it to classification network along with the decoder network. When doing backprop, in reducing the classification error, the weights would be tuned in such a way that the sample drawn from the encoder would become more informative about the class it represents. And because of the KL divergence pushing the posterior and prior distribution closer, we would eventually have the prior distributions more representative of the classes hence making class conditional generation even more more accurate. \n"
      ]
    },
    {
      "cell_type": "markdown",
      "metadata": {
        "id": "wqdbixn30Zq4"
      },
      "source": [
        "![alt text](https://drive.google.com/uc?id=1bloa42HsWsRsQ5O1KbAO2M09KHMXsLJ8)"
      ]
    },
    {
      "cell_type": "code",
      "metadata": {
        "id": "eQ46Og5mgai1"
      },
      "source": [
        "class Flatten(torch.nn.Module):\n",
        "    def forward(self, x):\n",
        "        batch_size = x.shape[0]\n",
        "        return x.view(batch_size, -1)\n",
        "\n",
        "\n",
        "class Encoder(nn.Module):\n",
        "    def __init__(self):\n",
        "        super(Encoder, self).__init__()\n",
        "        self.layer = nn.Sequential(\n",
        "                        nn.Conv2d(1,32,3,padding=1,stride=2),   \n",
        "                        nn.ReLU(), \n",
        "                        nn.BatchNorm2d(32),\n",
        "                        nn.Conv2d(32,64,3,padding=1,stride=2),   \n",
        "                        nn.ReLU(), \n",
        "                        nn.BatchNorm2d(64),  \n",
        "                        nn.Conv2d(64,128,3,padding=1,stride=2),   \n",
        "                        nn.ReLU(), \n",
        "                        nn.BatchNorm2d(128),\n",
        "                        nn.Conv2d(128,256,3,padding=1,stride=2),   \n",
        "                        nn.ReLU(), \n",
        "                        nn.BatchNorm2d(256),\n",
        "                        Flatten(),\n",
        "                        nn.Linear(2*2*256,256),\n",
        "                        nn.ReLU(),\n",
        "                        nn.BatchNorm1d(256),\n",
        "                        nn.Linear(256,256),\n",
        "                        nn.Softplus()\n",
        "                      \n",
        "                   )\n",
        "        \n",
        "    def reparametrize(self, mu, logvar):\n",
        "        var = logvar.exp()\n",
        "        std = var.sqrt()\n",
        "        eps = Variable(torch.FloatTensor(std.size()).normal_())\n",
        "        return eps.mul(std).add(mu)\n",
        "        \n",
        "\n",
        "\n",
        "    def forward(self, x):\n",
        "        \n",
        "        h = self.layer(x)  \n",
        "        h=h.view(-1,256)\n",
        "        mu = h[:, :128]\n",
        "        logvar = h[:, 128:]\n",
        "        z = self.reparametrize(mu, logvar)\n",
        "        return z,mu,logvar\n",
        "\n",
        "\n",
        "encoder = Encoder()     "
      ],
      "execution_count": null,
      "outputs": []
    },
    {
      "cell_type": "code",
      "metadata": {
        "id": "Pridby7g_LCj"
      },
      "source": [
        "\n",
        "class Decoder(nn.Module):\n",
        "    def __init__(self):\n",
        "        super(Decoder, self).__init__()\n",
        "        self.dlayer1 = nn.Sequential(\n",
        "                        nn.Linear(128,128*1*1)\n",
        "                      \n",
        "                   )\n",
        "        self.dlayer2 = nn.Sequential(\n",
        "                        nn.ConvTranspose2d(128,128,3,2,0,1),\n",
        "                        nn.ReLU(),\n",
        "                        nn.BatchNorm2d(128),\n",
        "                        nn.ConvTranspose2d(128,128,3,1,0),\n",
        "                        nn.ReLU(),\n",
        "                        nn.BatchNorm2d(128),\n",
        "                        nn.ConvTranspose2d(128,64,3,1,0),\n",
        "                        nn.ReLU(),\n",
        "                        nn.BatchNorm2d(64),\n",
        "                        nn.ConvTranspose2d(64,64,3,1,0),\n",
        "                        nn.ReLU(),\n",
        "                        nn.BatchNorm2d(64)\n",
        "        )\n",
        "        self.dlayer3 = nn.Sequential(\n",
        "                        nn.ConvTranspose2d(64,32,3,1,0),\n",
        "                        nn.ReLU(),\n",
        "                        nn.BatchNorm2d(32),\n",
        "                        nn.ConvTranspose2d(32,32,3,1,0),\n",
        "                        nn.ReLU(),\n",
        "                        nn.BatchNorm2d(32),\n",
        "                        nn.ConvTranspose2d(32,1,3,2,1,1),\n",
        "                        nn.Sigmoid()\n",
        "        )\n",
        "        \n",
        "\n",
        "\n",
        "\n",
        "    def forward(self, x):\n",
        "        \n",
        "        h = self.dlayer1(x)  \n",
        "        h=h.view(-1,128,1,1)\n",
        "        h = self.dlayer2(h)\n",
        "        h = self.dlayer3(h)\n",
        "        \n",
        "        return h\n",
        "\n",
        "\n",
        "decoder = Decoder()     "
      ],
      "execution_count": null,
      "outputs": []
    },
    {
      "cell_type": "code",
      "metadata": {
        "id": "vC9lMw-kTS65"
      },
      "source": [
        "\n",
        "class Prior(nn.Module):\n",
        "    def __init__(self):\n",
        "        super(Prior, self).__init__()\n",
        "        self.layer = nn.Sequential(\n",
        "                        nn.Linear(10,256),\n",
        "                        nn.Softplus()\n",
        "                      \n",
        "                   )\n",
        "        \n",
        "\n",
        "    def forward(self, x):\n",
        "        \n",
        "        h = self.layer(x)  \n",
        "        h=h.view(-1,256)\n",
        "        mu = h[:, :128]\n",
        "        logvar = h[:, 128:]\n",
        "        \n",
        "        return mu,logvar\n",
        "\n",
        "\n",
        "prior = Prior()     "
      ],
      "execution_count": null,
      "outputs": []
    },
    {
      "cell_type": "code",
      "metadata": {
        "id": "9iJ65DOlRTKM"
      },
      "source": [
        "\n",
        "class Classifier(nn.Module):\n",
        "    def __init__(self):\n",
        "        super(Classifier, self).__init__()\n",
        "        self.layer = nn.Sequential(\n",
        "                        nn.Linear(128,10),\n",
        "                        nn.Softmax()\n",
        "                      \n",
        "                   )\n",
        "        \n",
        "\n",
        "    def forward(self, x):\n",
        "        \n",
        "        h = self.layer(x)  \n",
        "        h=h.view(-1,10)\n",
        "\n",
        "        return h\n",
        "\n",
        "\n",
        "classifier = Classifier()   "
      ],
      "execution_count": null,
      "outputs": []
    },
    {
      "cell_type": "markdown",
      "metadata": {
        "id": "zQ2MUjP4G2M-"
      },
      "source": [
        "Validate_task1 function takes in normal looking MNIST validation/test data ( input images of 28x28 pixels), feeds it to the encoder, and feeds the sample drawn from the parameters produced by the encoder to the classification network. The accuracy is computed from the output of the classification network."
      ]
    },
    {
      "cell_type": "code",
      "metadata": {
        "id": "M_nEOP5GWvGj"
      },
      "source": [
        "def validate_task1(data):\n",
        "  # To get validation accuracy = (correct/total)*100.\n",
        "  total = 0\n",
        "  correct = 0\n",
        "  for i,(images,labels) in enumerate(data):\n",
        "    images = Variable(images)\n",
        "    e,mu,logvar = encoder(images)\n",
        "    h = classifier(e)\n",
        "\n",
        "    value,pred = torch.max(h,1)\n",
        "    pred = pred.data.cpu()\n",
        "    total += h.size(0)\n",
        "    correct += torch.sum(pred == labels)\n",
        "  return correct*100./total"
      ],
      "execution_count": null,
      "outputs": []
    },
    {
      "cell_type": "markdown",
      "metadata": {
        "id": "Jb9-vkPIMl5m"
      },
      "source": [
        "\n",
        "**Training - Task1 ( Normal MNIST )**\n",
        "\n",
        "The training involves the forward prop and backward prop. First, the input image is fed to the encoder after which a sample is drawn from the resulting parameters. Simultaneously, the corresponding label is fed into the prior in one-hot vector form and the prior network produces parameters of the prior distribution for that particular class. Now, we feed the drawn sample from the encoder to both the decoder and the classification network. The classification network produces class probabilities and the decoder produces reconstructed image. The loss is computed as mentioned above. The total loss comprises of MSE of reconstructed and original image, Cross entropy loss between the probabilities and original class label (in one-hot form) and the KL divergence between the prior and posterior distribution. Having computed the loss, we backpropagate it through the networks. \n",
        "\n",
        "![image.png](data:image/png;base64,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)\n",
        "\n",
        "**Hyperparameters**\n",
        "\n",
        "Learning rate = 0.0007\n",
        "\n",
        "Epochs = 35\n",
        "\n",
        "Batch size = 64\n",
        "\n",
        "Latent space Dimension = 128\n",
        "\n",
        "The input_condition method converts the labels into one hot encoded format."
      ]
    },
    {
      "cell_type": "code",
      "metadata": {
        "id": "TrlhYj-kba2f"
      },
      "source": [
        "def input_condition(labels):\n",
        "  pr = torch.zeros(labels.size(0),10)\n",
        "  l = len(labels)\n",
        "  for i in range(l):\n",
        "    pr[i,labels[i].int()] = 1\n",
        "  return pr\n",
        "\n",
        "def train_model_task1(data):\n",
        "  params = list(encoder.parameters()) + list(decoder.parameters()) + list(prior.parameters()) + list(classifier.parameters())\n",
        "  optimizer = torch.optim.Adam(params,lr = 0.0007)\n",
        "  loss_class = nn.CrossEntropyLoss()\n",
        "  loss_recons = nn.MSELoss()\n",
        "  ls=[]\n",
        "  n_epoch = 35\n",
        "  lambd = 1\n",
        "  weight_mse = 1\n",
        "  for e in range(n_epoch):\n",
        "    print(\"Epoch:\",e)\n",
        "    for i,(images,labels) in enumerate(data):\n",
        "      images = Variable(images)\n",
        "      labels = Variable(labels)\n",
        "      optimizer.zero_grad()\n",
        "      pr = input_condition(labels)\n",
        "      prior_mean,prior_logvar = prior(pr)\n",
        "      e,post_mean,post_logvar = encoder(images)\n",
        "      prior_std = prior_logvar.exp().sqrt()\n",
        "      post_std = post_logvar.exp().sqrt()\n",
        "      d = decoder(e)\n",
        "      pred = classifier(e)\n",
        "\n",
        "      mse_loss = loss_recons(images,d)\n",
        "      classifier_loss = loss_class(pred,labels)\n",
        "      kl_loss = (0.5/(128*batch_size))*(torch.sum(torch.log(post_std)) - torch.sum(torch.log(prior_std)) - 128 + torch.sum( (prior_std + pow(post_mean-prior_mean,2))/post_std))\n",
        "      total_loss = weight_mse*mse_loss + lambd*classifier_loss + kl_loss\n",
        "\n",
        "      total_loss.backward()\n",
        "      optimizer.step() \n",
        "  #    print(\"Loss at Epoch:\",e, total_loss.item())\n",
        "      ls.append(total_loss.item())\n",
        "    print(total_loss.item())   \n",
        "  \n",
        "  return ls\n"
      ],
      "execution_count": null,
      "outputs": []
    },
    {
      "cell_type": "markdown",
      "metadata": {
        "id": "A-MMFtLnQNES"
      },
      "source": [
        "Since we would need this model for comparing the effect of forgetting with and without generative replay, we store this model in drive.\n",
        "Upon calling the train_task1 function, we list of losses for each epoch. Once the training is done, we call validate_task1 to see the classification performance of the above defined network.\n",
        "We observe that the classification accuracy is over 99% and this indicates that the model has significantly learned and gained insights into the patterns in the input data."
      ]
    },
    {
      "cell_type": "code",
      "metadata": {
        "id": "wns3VoXvwWyZ",
        "outputId": "8656035d-a3ef-44b0-973c-80496b3ed620",
        "colab": {
          "base_uri": "https://localhost:8080/",
          "height": 88
        }
      },
      "source": [
        "loss = train_model_task1(train_loader)\n",
        "\n",
        "torch.save(encoder.state_dict(), '/content/drive/My Drive/encoder.pt')\n",
        "torch.save(decoder.state_dict(), '/content/drive/My Drive/decoder.pt')\n",
        "torch.save(prior.state_dict(), '/content/drive/My Drive/prior.pt')\n",
        "torch.save(classifier.state_dict(), '/content/drive/My Drive/classifier.pt')\n",
        "\n",
        "\n",
        "acc = validate_task1(test_loader)\n",
        "print(\"Accuracy Trained on Task1 and tested on Task1 is:\",acc.item())"
      ],
      "execution_count": null,
      "outputs": [
        {
          "output_type": "stream",
          "text": [
            "/usr/local/lib/python3.6/dist-packages/torch/nn/modules/container.py:100: UserWarning: Implicit dimension choice for softmax has been deprecated. Change the call to include dim=X as an argument.\n",
            "  input = module(input)\n"
          ],
          "name": "stderr"
        },
        {
          "output_type": "stream",
          "text": [
            "Accuracy Trained on Task1 and tested on Task1 is: 99.08999633789062\n"
          ],
          "name": "stdout"
        }
      ]
    },
    {
      "cell_type": "markdown",
      "metadata": {
        "id": "IwXA3WxbStq5"
      },
      "source": [
        "We now observe the decoder's performance by feeding in input images to the encoder, drawing a sample from the distribution parameters ( mean and variance ) and finally feeding that to the decoder. Although there is some amount of randomness in drawing the sample from the encoder's output distribution parameters, the reconstructed image is reasonably clear and identical to the original image."
      ]
    },
    {
      "cell_type": "code",
      "metadata": {
        "id": "0C8mBzyDMLSR",
        "outputId": "e4eca88f-8fdd-47db-a31a-7ce506d95b3c",
        "colab": {
          "base_uri": "https://localhost:8080/",
          "height": 530
        }
      },
      "source": [
        "# Testing Task1 Reconstruction (Normal MNIST)\n",
        "\n",
        "for images,labels in test_loader:\n",
        "  e,_,_ = encoder(images)\n",
        "  d = decoder(e)\n",
        "  d = d.view(64,28,28)\n",
        "  dp = d[0].view(28,28)\n",
        "  dp = dp.data.numpy()\n",
        "  ep = images[0].view(28,28)\n",
        "  break\n",
        "plt.imshow(ep,cmap='gray')\n",
        "plt.show()\n",
        "plt.imshow(dp,cmap='gray')  \n",
        "\n"
      ],
      "execution_count": null,
      "outputs": [
        {
          "output_type": "display_data",
          "data": {
            "image/png": "[encoded data removed]",
            "text/plain": [
              "<Figure size 432x288 with 1 Axes>"
            ]
          },
          "metadata": {
            "tags": []
          }
        },
        {
          "output_type": "execute_result",
          "data": {
            "text/plain": [
              "<matplotlib.image.AxesImage at 0x7fd3fdaf72b0>"
            ]
          },
          "metadata": {
            "tags": []
          },
          "execution_count": 11
        },
        {
          "output_type": "display_data",
          "data": {
            "image/png": "[encoded data removed]",
            "text/plain": [
              "<Figure size 432x288 with 1 Axes>"
            ]
          },
          "metadata": {
            "tags": []
          }
        }
      ]
    },
    {
      "cell_type": "markdown",
      "metadata": {
        "id": "heMpwEudTVzL"
      },
      "source": [
        "We now test the class-conditional generation ability of the trained network. We feed in a one-hot vector of digit 1 label into the prior network. The mean and variance parameters produced by the prior network is then used to draw a sample from the probability distribution and then fed to the decoder network. It is observed that the output of the decoder is clear and corresponds to the label fed into the prior network."
      ]
    },
    {
      "cell_type": "code",
      "metadata": {
        "id": "8wd26Zwi8J4A",
        "outputId": "82bb4f9d-ad3f-400b-9675-0b3183a437cc",
        "colab": {
          "base_uri": "https://localhost:8080/",
          "height": 282
        }
      },
      "source": [
        "# Testing prior network - Class conditional generation\n",
        "for images,labels in train_loader:\n",
        "  t = torch.zeros(images.size(0),10)\n",
        "  for i in range(t.size(0)):\n",
        "    t[i,labels[i]] = 1\n",
        "  \n",
        "  pr_mu,pr_logvar = prior(t)\n",
        "  var = pr_logvar.exp()\n",
        "  std = var.sqrt()\n",
        "  eps = Variable(torch.FloatTensor(std.size()).normal_())\n",
        "  r = eps.mul(std).add(pr_mu)\n",
        "  d = decoder(r)\n",
        "  k=21\n",
        "  \n",
        "  print(\"Class :\",labels[k])\n",
        "  dp = d[k].view(28,28).data.numpy()\n",
        "  plt.imshow(dp,cmap='gray')\n",
        "  break"
      ],
      "execution_count": null,
      "outputs": [
        {
          "output_type": "stream",
          "text": [
            "Class : tensor(1)\n"
          ],
          "name": "stdout"
        },
        {
          "output_type": "display_data",
          "data": {
            "image/png": "[encoded data removed]",
            "text/plain": [
              "<Figure size 432x288 with 1 Axes>"
            ]
          },
          "metadata": {
            "tags": []
          }
        }
      ]
    },
    {
      "cell_type": "markdown",
      "metadata": {
        "id": "gNOWitSMT_gB"
      },
      "source": [
        "Rotate_dataset is a function which takes in normal MNIST images and an angle as input and returns the input images rotated by the given angle. This function is used for creating the rotated MNIST dataset."
      ]
    },
    {
      "cell_type": "code",
      "metadata": {
        "id": "nVWa8LIdLOz0"
      },
      "source": [
        "def rotate_dataset(d, rotation):\n",
        "    \n",
        "    result = torch.Tensor(d.size(0), 28,28)\n",
        "    tensor = transforms.ToTensor()\n",
        "\n",
        "    for i in range(d.size(0)):\n",
        "        img = Image.fromarray(d[i].view(28,28).numpy())\n",
        "        result[i] = tensor(img.rotate(rotation))\n",
        "    return result"
      ],
      "execution_count": null,
      "outputs": []
    },
    {
      "cell_type": "markdown",
      "metadata": {
        "id": "KIgH9vF5Uxt1"
      },
      "source": [
        "Below, we create the train dataset of rotated images in which the rotation angle is randomly chosen between 0-360 for each digit. Once the rotation is completed we use DataLoader to load the dataset for using it for training."
      ]
    },
    {
      "cell_type": "code",
      "metadata": {
        "id": "wwjXQ5ILU6iK"
      },
      "source": [
        "import torch.utils.data as data_utils\n",
        "\n",
        "images_rotate = torch.randn(0)\n",
        "labels_rotate = torch.randn(0)\n",
        "for images,labels2 in train_loader:\n",
        "    images = Variable(images)\n",
        "    r = random.randint(0,360) \n",
        "    temp_images_rotate = rotate_dataset(images,r).view(images.size(0),1,28,28)\n",
        "    images_rotate = torch.cat((images_rotate, temp_images_rotate))\n",
        "    labels_rotate = torch.cat((labels_rotate.long(), labels2.long()))\n",
        "\n",
        "#images_rotate = torch.FloatTensor(images_rotate)\n",
        "mnist_train_rotate = data_utils.TensorDataset(images_rotate, labels_rotate)\n",
        "rotate_loader =  DataLoader(mnist_train_rotate, batch_size=batch_size, shuffle=True)"
      ],
      "execution_count": null,
      "outputs": []
    },
    {
      "cell_type": "markdown",
      "metadata": {
        "id": "C3ryvmPlVwf2"
      },
      "source": [
        "Now that the model is trained with task1 ( Normal MNIST ) and its performing extraordinarily well, we need to train the already trained model with task2 ( Rotated MNIST ) and see if it \"forgets\" task1. Similar to validate_task1, validates_task2 function computes the accuracy on task2 data. And train_model_task2 is similar to that for task1 and different in the sense that the data is just rotated. The training procedure is identical to that of task1.\n",
        "\n",
        "**Hyperparameters**\n",
        "\n",
        "Learning Rate = 0.001\n",
        "\n",
        "Batch Size = 64\n",
        "\n",
        "Epochs = 35\n"
      ]
    },
    {
      "cell_type": "code",
      "metadata": {
        "id": "I7Y8epYqgWqH"
      },
      "source": [
        "def validate_task2(data):\n",
        "  # To get validation accuracy = (correct/total)*100.\n",
        "  total = 0\n",
        "  correct = 0\n",
        "  for i,(images,labels) in enumerate(data):\n",
        "    images = Variable(images)\n",
        "    r = random.randint(0,360) \n",
        "    images_rot = rotate_dataset(images,r).view(images.size(0),1,28,28)    \n",
        "    e,mu,logvar = encoder(images_rot)\n",
        "    h = classifier(e)\n",
        "\n",
        "    value,pred = torch.max(h,1)\n",
        "    pred = pred.data.cpu()\n",
        "    total += h.size(0)\n",
        "    correct += torch.sum(pred == labels)\n",
        "  return correct*100./total\n",
        "\n",
        "def train_model_task2(data):\n",
        "  # Directly trains on task2 WITHOUT generative replay\n",
        "  params = list(encoder.parameters()) + list(decoder.parameters()) + list(prior.parameters()) + list(classifier.parameters())\n",
        "  optimizer = torch.optim.Adam(params,lr = 0.001)\n",
        "  loss_class = nn.CrossEntropyLoss()\n",
        "  loss_recons = nn.MSELoss()\n",
        "  ls=[]\n",
        "  n_epoch = 35\n",
        "\n",
        "  for e in range(n_epoch):\n",
        "    print(\"Epoch:\",e)\n",
        "    for images,labels in data:\n",
        "      images = Variable(images)\n",
        "      #r = random.randint(90,270) \n",
        "      #images_rot = rotate_dataset(images,r).view(images.size(0),1,28,28)\n",
        "      labels = Variable(labels)\n",
        "      optimizer.zero_grad()\n",
        "      pr = input_condition(labels)\n",
        "      prior_mean,prior_logvar = prior(pr)\n",
        "      e,post_mean,post_logvar = encoder(images)\n",
        "      prior_std = prior_logvar.exp().sqrt()\n",
        "      post_std = post_logvar.exp().sqrt()\n",
        "      d = decoder(e)\n",
        "      pred = classifier(e)\n",
        "\n",
        "      mse_loss = loss_recons(images,d)\n",
        "      classifier_loss = loss_class(pred,labels)\n",
        "      kl_loss = (0.5/(batch_size*128))*(torch.sum(torch.log(post_std)) - torch.sum(torch.log(prior_std)) - 128 + torch.sum( (prior_std + pow(post_mean-prior_mean,2))/post_std))\n",
        "      total_loss = mse_loss + classifier_loss + kl_loss\n",
        "\n",
        "      total_loss.backward()\n",
        "      optimizer.step() \n",
        "  #    print(\"Loss at Epoch:\",e, total_loss.item())\n",
        "      ls.append(total_loss.item())\n",
        "    print(total_loss.item())   \n",
        "  \n",
        "  return ls\n",
        "\n"
      ],
      "execution_count": null,
      "outputs": []
    },
    {
      "cell_type": "markdown",
      "metadata": {
        "id": "cmsKPYSFWWeo"
      },
      "source": [
        "Once the training is completed we compute the accuracy of the model on the rotated MNIST dataset (task2) for which we get around 95%. But when we test the model on the task1 dataset (Normal MNIST), the accuracy falls low to around 41% which clearly shows that our model is forgetting what it had learned before."
      ]
    },
    {
      "cell_type": "code",
      "metadata": {
        "id": "qi7mHSITOC0b",
        "outputId": "8ed69373-92c0-4d84-aeb7-583cc1ac1c31",
        "colab": {
          "base_uri": "https://localhost:8080/",
          "height": 615
        }
      },
      "source": [
        "# Observing Catastrophic forgetting\n",
        "\n",
        "loss = train_model_task2(rotate_loader)\n",
        "\n",
        "acc2 = validate_task2(test_loader)\n",
        "print(\"Accuracy in task2-Training model on task2 after task1:\",acc2)\n",
        "acc1 = validate_task1(test_loader)\n",
        "print(\"Accuracy in task1-Training model on task2 after task1:\",acc1)\n"
      ],
      "execution_count": null,
      "outputs": [
        {
          "output_type": "stream",
          "text": [
            "Epoch: 0\n"
          ],
          "name": "stdout"
        },
        {
          "output_type": "stream",
          "text": [
            "/usr/local/lib/python3.6/dist-packages/torch/nn/modules/container.py:100: UserWarning: Implicit dimension choice for softmax has been deprecated. Change the call to include dim=X as an argument.\n",
            "  input = module(input)\n"
          ],
          "name": "stderr"
        },
        {
          "output_type": "stream",
          "text": [
            "1.7951349020004272\n",
            "Epoch: 1\n",
            "1.8179446458816528\n",
            "Epoch: 2\n",
            "1.9221787452697754\n",
            "Epoch: 3\n",
            "1.8431382179260254\n",
            "Epoch: 4\n",
            "1.8402109146118164\n",
            "Epoch: 5\n",
            "1.778361201286316\n",
            "Epoch: 6\n",
            "1.8711947202682495\n",
            "Epoch: 7\n",
            "1.851608157157898\n",
            "Epoch: 8\n",
            "1.8025068044662476\n",
            "Epoch: 9\n",
            "1.7701443433761597\n",
            "Epoch: 10\n",
            "1.8385965824127197\n",
            "Epoch: 11\n",
            "1.8024822473526\n",
            "Epoch: 12\n",
            "1.8419079780578613\n",
            "Epoch: 13\n",
            "1.7741671800613403\n",
            "Epoch: 14\n",
            "1.9232409000396729\n",
            "Accuracy in task2-Training model on task2 after task1: tensor(95.3800)\n",
            "Accuracy in task1-Training model on task2 after task1: tensor(41.2200)\n"
          ],
          "name": "stdout"
        }
      ]
    },
    {
      "cell_type": "markdown",
      "metadata": {
        "id": "uNk5aCllXLJa"
      },
      "source": [
        "To solve the problem of forgetting the model when trained with new dataset, we perform the steps below. We use the prior network we had trained before to generate samples of task1 data, pass it to the decoder network to generate data samples for our Normal MNIST dataset. So even though the network has only seen the task1 data once, it can generate new samples of the same kind and use it as training data along with that of task2. The difference to above method is that instead of training the model on task2 data, we concatenate task2 data and generated task1 data (By the prior network being fed to the decoder network) and use the combination as task2 training data. This idea assumes the fact that the generated task1 data will enable the network to retain knowledge about task1 even though its being trained with task2 data. "
      ]
    },
    {
      "cell_type": "code",
      "metadata": {
        "id": "XfiyE4-UZdNo"
      },
      "source": [
        "\n",
        "# Generating the Pseudo data\n",
        "\n",
        "pseudo_data = torch.randn(0)\n",
        "for i in range(10):\n",
        "\n",
        "  tem = torch.zeros(6000,10)\n",
        "  tem[:,i] = torch.ones(6000)\n",
        "  mu,logvar = prior(tem)\n",
        "  prior_std = logvar.exp().sqrt()\n",
        "  eps = Variable(torch.FloatTensor(prior_std.size()).normal_())\n",
        "  r = eps.mul(prior_std).add(mu)   \n",
        "  d = decoder(r)\n",
        "  pseudo_data = torch.cat((pseudo_data,d))\n",
        "  print(i)\n",
        "pseudo_data - torch.FloatTensor(pseudo_data)\n",
        "labels = torch.cat((0*torch.ones(6000),1*torch.ones(6000),2*torch.ones(6000),3*torch.ones(6000),4*torch.ones(6000),5*torch.ones(6000),6*torch.ones(6000),7*torch.ones(6000),8*torch.ones(6000),9*torch.ones(6000)))\n",
        "print(labels.size())\n",
        "labels = labels.view(60000).long()\n",
        "print(labels)\n",
        "print(labels.size())\n",
        "import torch.utils.data as data_utils\n",
        "\n",
        "\n",
        "\n",
        "pdataset = data_utils.TensorDataset(pseudo_data, labels)\n",
        "\n",
        "concat_dataset = torch.utils.data.ConcatDataset([mnist_train_rotate, pdataset])\n",
        "combined_dataset_loader = data_utils.DataLoader(concat_dataset, batch_size=32, shuffle=True)\n",
        "  \n"
      ],
      "execution_count": null,
      "outputs": []
    },
    {
      "cell_type": "code",
      "metadata": {
        "id": "t4JdfCu6emT8",
        "outputId": "02f43a9b-2985-4c87-a6b0-e641a903624e",
        "colab": {
          "base_uri": "https://localhost:8080/",
          "height": 105
        }
      },
      "source": [
        "# Training Task2 with generative replay\n",
        "encoder.load_state_dict(torch.load('/content/drive/My Drive/encoder.pt'))\n",
        "decoder.load_state_dict(torch.load('/content/drive/My Drive/decoder.pt'))\n",
        "prior.load_state_dict(torch.load('/content/drive/My Drive/prior.pt'))\n",
        "classifier.load_state_dict(torch.load('/content/drive/My Drive/classifier.pt'))\n",
        "loss = train_model_task1(combined_dataset_loader)\n",
        "acc5 = validate_task1(test_loader)\n",
        "print(\"Accuracy in task1-Training model on task2 after task1(With Generative Replay):\",acc5)\n",
        "acc1 = validate_task2(test_loader)\n",
        "print(\"Accuracy in task2-Training model on task2 after task1(With Generative Replay):\",acc1)"
      ],
      "execution_count": null,
      "outputs": [
        {
          "output_type": "stream",
          "text": [
            "/usr/local/lib/python3.6/dist-packages/torch/nn/modules/container.py:100: UserWarning: Implicit dimension choice for softmax has been deprecated. Change the call to include dim=X as an argument.\n",
            "  input = module(input)\n"
          ],
          "name": "stderr"
        },
        {
          "output_type": "stream",
          "text": [
            "Accuracy in task1-Training model on task2 after task1(With Generative Replay): tensor(90.9000)\n",
            "Accuracy in task2-Training model on task2 after task1(With Generative Replay): tensor(89.4100)\n"
          ],
          "name": "stdout"
        }
      ]
    },
    {
      "cell_type": "markdown",
      "metadata": {
        "id": "KqUsmrI0ZPPX"
      },
      "source": [
        "**Conclusion**\n",
        "\n",
        "Once we prepare the combined dataset, we train the already task1 trained model on it by first loading the saved model. Once the training was completed, we could observe that the accuracy on task1 data was around 91% in comparison to 41% which we got without any replay. This huge improvement in performance was only because of generative replay mechanism. And the performance on task2 was around 90% which was quite reasonable considering that the network had to learn two different dataset distribution with just one network. Therefore, we conclude that generative replay using Discriminative Variational Autoencoder yields an enormous improvement in performance thereby overcoming Catastrophic forgetting.\n"
      ]
    }
  ]
}